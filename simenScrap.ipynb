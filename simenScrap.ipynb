{
 "cells": [
  {
   "cell_type": "code",
   "execution_count": 1,
   "metadata": {},
   "outputs": [],
   "source": [
    "# load packages and define scrap function\n",
    "import requests\n",
    "from bs4 import BeautifulSoup\n",
    "from time import sleep\n",
    "import pandas as pd\n",
    "\n",
    "# Function to scrape the desired text\n",
    "def scrape_steam_id(url,header,sleepTime=3):\n",
    "    # Send a GET request to the URL\n",
    "    response = requests.get(url,headers=header)\n",
    "    sleep(sleepTime)\n",
    "    \n",
    "    # Check if the request was successful\n",
    "    if response.status_code != 200:\n",
    "        raise Exception(f\"Failed to fetch the page: Status code {response.status_code}\")\n",
    "    \n",
    "    # Parse the HTML content of the page\n",
    "    soup = BeautifulSoup(response.text, 'html.parser')\n",
    "    \n",
    "    # Locate the specific button element by its \"onclick\" attribute\n",
    "    button = soup.find('button', onclick=lambda value: value and \"copyToClipboard\" in value)\n",
    "    \n",
    "    # Extract the text inside the <b> tag nested within the button\n",
    "    if button:\n",
    "        b_tag = button.find('b')\n",
    "        if b_tag:\n",
    "            return b_tag.text.strip()\n",
    "    \n",
    "    # If no match is found, return None or raise an exception\n",
    "    return None\n",
    "\n",
    "\n",
    "fake_header = {  \"user-agent\": \"Mozilla/5.0 (Windows NT 10.0; Win64; x64) AppleWebKit/537.36 (KHTML, like Gecko) Chrome/60.0.3112.113 Safari/537.36\",\n",
    "            \"Accept\":\"text/html,application/xhtml+xml,application/xml;q=0.9,image/webp,*/*;q=0.8\",\n",
    "            \"Accept-Encoding\":\"gzip, deflate, sdch\",\n",
    "            \"Accept-Language\":\"zh-TW,zh;q=0.8,en-US;q=0.6,en;q=0.4,zh-CN;q=0.2\"}\n",
    "\n",
    "base_url = \"http://203.135.101.236:47019/kztop//player.php?player={}\"\n",
    "\n",
    "# scrapped url are stored in the following list:\n",
    "df_steamID = []\n"
   ]
  },
  {
   "cell_type": "code",
   "execution_count": null,
   "metadata": {},
   "outputs": [],
   "source": [
    "start = 1\n",
    "# stop to be set as the total number of players\n",
    "stop = 1000\n",
    "\n",
    "# scrapping loop\n",
    "for i in range(start,stop+1):\n",
    "    url=base_url.format(i)\n",
    "    try:\n",
    "        steam_id = scrape_steam_id(url,header=fake_header)\n",
    "        if steam_id:\n",
    "            df_steamID.append(steam_id)\n",
    "            print(f\"{i}: {steam_id}\")\n",
    "        else:\n",
    "            df_steamID.append(f'NaN_{i}')\n",
    "            print(f\"{i}: Steam ID not found.\")\n",
    "    except Exception as e:\n",
    "        df_steamID.append(f'err_{i}')\n",
    "        print(f\"error at {i}: {e}\")\n"
   ]
  },
  {
   "cell_type": "code",
   "execution_count": 16,
   "metadata": {},
   "outputs": [],
   "source": [
    "# output\n",
    "simenSteamID = pd.DataFrame(df_steamID,index = range(1,len(df_steamID)+1))\n",
    "simenSteamID.to_csv('simenSteamID.csv')"
   ]
  }
 ],
 "metadata": {
  "kernelspec": {
   "display_name": "base",
   "language": "python",
   "name": "python3"
  },
  "language_info": {
   "codemirror_mode": {
    "name": "ipython",
    "version": 3
   },
   "file_extension": ".py",
   "mimetype": "text/x-python",
   "name": "python",
   "nbconvert_exporter": "python",
   "pygments_lexer": "ipython3",
   "version": "3.12.3"
  }
 },
 "nbformat": 4,
 "nbformat_minor": 2
}
