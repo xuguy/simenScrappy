{
 "cells": [
  {
   "cell_type": "code",
   "execution_count": 1,
   "metadata": {},
   "outputs": [
    {
     "name": "stdout",
     "output_type": "stream",
     "text": [
      "codes run here\n",
      "hello kaggle\n"
     ]
    }
   ],
   "source": [
    "# this note book is for test whether notebook push and run as expected in kaggle\n",
    "print('codes run here')\n",
    "import requests\n",
    "from bs4 import BeautifulSoup\n",
    "from time import sleep\n",
    "import pandas as pd\n",
    "\n",
    "# Function to scrape the desired text\n",
    "def scrape_steam_id(url,header,sleepTime=3):\n",
    "    # Send a GET request to the URL\n",
    "    response = requests.get(url,headers=header)\n",
    "    sleep(sleepTime)\n",
    "    \n",
    "    # Check if the request was successful\n",
    "    if response.status_code != 200:\n",
    "        raise Exception(f\"Failed to fetch the page: Status code {response.status_code}\")\n",
    "    \n",
    "    # Parse the HTML content of the page\n",
    "    soup = BeautifulSoup(response.text, 'html.parser')\n",
    "    \n",
    "    # Locate the specific button element by its \"onclick\" attribute\n",
    "    button = soup.find('button', onclick=lambda value: value and \"copyToClipboard\" in value)\n",
    "    \n",
    "    # Extract the text inside the <b> tag nested within the button\n",
    "    if button:\n",
    "        b_tag = button.find('b')\n",
    "        if b_tag:\n",
    "            return b_tag.text.strip()\n",
    "    \n",
    "    # If no match is found, return None or raise an exception\n",
    "    return None\n",
    "\n",
    "print('hello kaggle')"
   ]
  },
  {
   "cell_type": "code",
   "execution_count": 3,
   "metadata": {},
   "outputs": [],
   "source": [
    "# output test\n",
    "print('all zero fake df output to csv test')\n",
    "import numpy as np\n",
    "tmp=np.zeros((10,12))\n",
    "df=pd.DataFrame(tmp)\n",
    "df.to_csv('testOutputFile.csv')\n",
    "print('test ends here')"
   ]
  }
 ],
 "metadata": {
  "kernelspec": {
   "display_name": "base",
   "language": "python",
   "name": "python3"
  },
  "language_info": {
   "codemirror_mode": {
    "name": "ipython",
    "version": 3
   },
   "file_extension": ".py",
   "mimetype": "text/x-python",
   "name": "python",
   "nbconvert_exporter": "python",
   "pygments_lexer": "ipython3",
   "version": "3.12.3"
  }
 },
 "nbformat": 4,
 "nbformat_minor": 2
}
